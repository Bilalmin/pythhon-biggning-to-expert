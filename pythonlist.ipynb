{
  "nbformat": 4,
  "nbformat_minor": 0,
  "metadata": {
    "colab": {
      "name": "pythonlist.ipynb",
      "provenance": [],
      "collapsed_sections": [],
      "authorship_tag": "ABX9TyPHte1lejnbvPIzMK+Q1yYF",
      "include_colab_link": true
    },
    "kernelspec": {
      "name": "python3",
      "display_name": "Python 3"
    },
    "language_info": {
      "name": "python"
    }
  },
  "cells": [
    {
      "cell_type": "markdown",
      "metadata": {
        "id": "view-in-github",
        "colab_type": "text"
      },
      "source": [
        "<a href=\"https://colab.research.google.com/github/Bilalmin/pythhon-biggning-to-expert/blob/main/pythonlist.ipynb\" target=\"_parent\"><img src=\"https://colab.research.google.com/assets/colab-badge.svg\" alt=\"Open In Colab\"/></a>"
      ]
    },
    {
      "cell_type": "code",
      "metadata": {
        "id": "8o6QsYhWH79w",
        "colab": {
          "base_uri": "https://localhost:8080/"
        },
        "outputId": "c31543e7-492f-4e54-c348-5039e1456d92"
      },
      "source": [
        "mylist=[\"ali\",\"amir\",\"adnan\",\"asim\"]\n",
        "#print(mylist)   #print all list\n",
        "print(len(mylist))  #print length of list like ans is 4\n",
        "\n",
        "#types of list ...three types only\n",
        "list1=[\"ali\",\"ahmad\",\"nabeel\",\"amir\"]\n",
        "list2=[1,2,3,4,5,6,7]\n",
        "list3=[True,False]\n",
        "print(list1)\n",
        "print(list2)\n",
        "print(list3)\n",
        "print(type(mylist))\n",
        "\n"
      ],
      "execution_count": null,
      "outputs": [
        {
          "output_type": "stream",
          "text": [
            "4\n",
            "['ali', 'ahmad', 'nabeel', 'amir']\n",
            "[1, 2, 3, 4, 5, 6, 7]\n",
            "[True, False]\n",
            "<class 'list'>\n"
          ],
          "name": "stdout"
        }
      ]
    },
    {
      "cell_type": "code",
      "metadata": {
        "id": "ykW5x5EqPBKn"
      },
      "source": [
        "l=[1,2,3,4,5,6,7]"
      ],
      "execution_count": null,
      "outputs": []
    },
    {
      "cell_type": "code",
      "metadata": {
        "colab": {
          "base_uri": "https://localhost:8080/"
        },
        "id": "1jTc595d3wDB",
        "outputId": "217f4f31-774b-45ae-a6ed-5601adce8826"
      },
      "source": [
        "l"
      ],
      "execution_count": null,
      "outputs": [
        {
          "output_type": "execute_result",
          "data": {
            "text/plain": [
              "[1, 2, 3, 4, 5, 6, 7]"
            ]
          },
          "metadata": {
            "tags": []
          },
          "execution_count": 3
        }
      ]
    },
    {
      "cell_type": "code",
      "metadata": {
        "colab": {
          "base_uri": "https://localhost:8080/"
        },
        "id": "oukGp2IF3yQn",
        "outputId": "f3e5b3f4-49ea-4096-99fb-0cbafc67d54b"
      },
      "source": [
        "l.append(8)  #add an object in the end of list like 8\n",
        "l"
      ],
      "execution_count": null,
      "outputs": [
        {
          "output_type": "execute_result",
          "data": {
            "text/plain": [
              "[1, 2, 3, 4, 5, 6, 7, 8]"
            ]
          },
          "metadata": {
            "tags": []
          },
          "execution_count": 9
        }
      ]
    },
    {
      "cell_type": "code",
      "metadata": {
        "colab": {
          "base_uri": "https://localhost:8080/"
        },
        "id": "N7QnzLCC44Eg",
        "outputId": "907d7c86-7e3e-49fb-e1fa-a14ed6cfc294"
      },
      "source": [
        "l.extend([9,10,11])  #exend add multiple objects at the end of list like 9,10,11\n",
        "l"
      ],
      "execution_count": null,
      "outputs": [
        {
          "output_type": "execute_result",
          "data": {
            "text/plain": [
              "[1, 2, 3, 4, 5, 6, 7, 8, 9, 10, 11]"
            ]
          },
          "metadata": {
            "tags": []
          },
          "execution_count": 10
        }
      ]
    },
    {
      "cell_type": "code",
      "metadata": {
        "colab": {
          "base_uri": "https://localhost:8080/"
        },
        "id": "ITakCF6e6Url",
        "outputId": "8928fdea-16aa-4536-e13d-a5f41f4e8c94"
      },
      "source": [
        "l.insert(5,5.5)  #inset value like 5.5 (it received two values one is index numbr and second is value)\n",
        "l"
      ],
      "execution_count": null,
      "outputs": [
        {
          "output_type": "execute_result",
          "data": {
            "text/plain": [
              "[1, 2, 3, 4, 5, 5.5, 6, 7, 8, 9, 10, 11]"
            ]
          },
          "metadata": {
            "tags": []
          },
          "execution_count": 13
        }
      ]
    },
    {
      "cell_type": "code",
      "metadata": {
        "colab": {
          "base_uri": "https://localhost:8080/"
        },
        "id": "VyI_JteC6t94",
        "outputId": "1721179a-a28f-4715-ce23-f594d1e97146"
      },
      "source": [
        "l.remove(5.5) #remove a value\n",
        "l"
      ],
      "execution_count": null,
      "outputs": [
        {
          "output_type": "execute_result",
          "data": {
            "text/plain": [
              "[1, 2, 3, 4, 5, 6, 7, 8, 9, 10, 11]"
            ]
          },
          "metadata": {
            "tags": []
          },
          "execution_count": 14
        }
      ]
    },
    {
      "cell_type": "code",
      "metadata": {
        "colab": {
          "base_uri": "https://localhost:8080/"
        },
        "id": "CeTzhBeY615R",
        "outputId": "b854cb64-1fae-4bf6-c4f9-1b17df471425"
      },
      "source": [
        "l.pop() # last value ko nikal ly ga like below result\n",
        "l"
      ],
      "execution_count": null,
      "outputs": [
        {
          "output_type": "execute_result",
          "data": {
            "text/plain": [
              "[1, 2, 3, 4, 5, 6, 7, 8, 9, 10]"
            ]
          },
          "metadata": {
            "tags": []
          },
          "execution_count": 15
        }
      ]
    },
    {
      "cell_type": "code",
      "metadata": {
        "colab": {
          "base_uri": "https://localhost:8080/"
        },
        "id": "7ebwJXVf7cVF",
        "outputId": "e12edb68-a5cb-4eb5-bf6c-6e0badff1b55"
      },
      "source": [
        "l.pop(0)  # zero index me value ko ko list sy bahir nikal ly ga\n",
        "l"
      ],
      "execution_count": null,
      "outputs": [
        {
          "output_type": "execute_result",
          "data": {
            "text/plain": [
              "[2, 3, 4, 5, 6, 7, 8, 9, 10]"
            ]
          },
          "metadata": {
            "tags": []
          },
          "execution_count": 16
        }
      ]
    },
    {
      "cell_type": "code",
      "metadata": {
        "colab": {
          "base_uri": "https://localhost:8080/"
        },
        "id": "Hyk8EC4a7wM9",
        "outputId": "71d65cac-cc9a-4504-840e-62f50e2715d6"
      },
      "source": [
        "l.pop(4)\n",
        "l"
      ],
      "execution_count": null,
      "outputs": [
        {
          "output_type": "execute_result",
          "data": {
            "text/plain": [
              "[2, 3, 4, 5, 7, 8, 9, 10]"
            ]
          },
          "metadata": {
            "tags": []
          },
          "execution_count": 17
        }
      ]
    },
    {
      "cell_type": "code",
      "metadata": {
        "colab": {
          "base_uri": "https://localhost:8080/"
        },
        "id": "R1vl_WzE7-Gy",
        "outputId": "29ee743b-f7bc-4c0a-dd03-000f42939173"
      },
      "source": [
        "#pop value ko permanantly nhi nikalta  ar remove function permantly value ko  nikalta\n",
        "\n",
        "l.reverse()  # big value sy down ,nichy ki trf show krta hy\n",
        "l"
      ],
      "execution_count": null,
      "outputs": [
        {
          "output_type": "execute_result",
          "data": {
            "text/plain": [
              "[10, 9, 8, 7, 5, 4, 3, 2]"
            ]
          },
          "metadata": {
            "tags": []
          },
          "execution_count": 18
        }
      ]
    },
    {
      "cell_type": "code",
      "metadata": {
        "colab": {
          "base_uri": "https://localhost:8080/"
        },
        "id": "sAxuARq38tac",
        "outputId": "2be55c75-a004-437b-a125-040661b537ee"
      },
      "source": [
        "l.sort() #choti value sy bri value ki trf ly kr jata hy\n",
        "l"
      ],
      "execution_count": null,
      "outputs": [
        {
          "output_type": "execute_result",
          "data": {
            "text/plain": [
              "[2, 3, 4, 5, 7, 8, 9, 10]"
            ]
          },
          "metadata": {
            "tags": []
          },
          "execution_count": 19
        }
      ]
    },
    {
      "cell_type": "code",
      "metadata": {
        "colab": {
          "base_uri": "https://localhost:8080/"
        },
        "id": "ng2kIFJF8zVX",
        "outputId": "c4f6b21f-fcf3-446b-ffb1-f5b55cf1f530"
      },
      "source": [
        "min(l)\n"
      ],
      "execution_count": null,
      "outputs": [
        {
          "output_type": "execute_result",
          "data": {
            "text/plain": [
              "2"
            ]
          },
          "metadata": {
            "tags": []
          },
          "execution_count": 20
        }
      ]
    },
    {
      "cell_type": "code",
      "metadata": {
        "colab": {
          "base_uri": "https://localhost:8080/"
        },
        "id": "cBuGHgL99JcQ",
        "outputId": "fee71fd6-9b8d-4d88-8413-4be9267295a2"
      },
      "source": [
        "max(l)"
      ],
      "execution_count": null,
      "outputs": [
        {
          "output_type": "execute_result",
          "data": {
            "text/plain": [
              "10"
            ]
          },
          "metadata": {
            "tags": []
          },
          "execution_count": 21
        }
      ]
    },
    {
      "cell_type": "code",
      "metadata": {
        "colab": {
          "base_uri": "https://localhost:8080/"
        },
        "id": "htBL-wND9MpT",
        "outputId": "a653f927-2f92-4743-cb3e-4928984ed830"
      },
      "source": [
        "sum(l)"
      ],
      "execution_count": null,
      "outputs": [
        {
          "output_type": "execute_result",
          "data": {
            "text/plain": [
              "48"
            ]
          },
          "metadata": {
            "tags": []
          },
          "execution_count": 22
        }
      ]
    },
    {
      "cell_type": "code",
      "metadata": {
        "colab": {
          "base_uri": "https://localhost:8080/"
        },
        "id": "K0c0fEH69UHE",
        "outputId": "fe6b470c-e9f9-434e-8f32-ac41a99f29f5"
      },
      "source": [
        "s=[\"ali\",\"ahmad\",\"burhan\"]\n",
        "s"
      ],
      "execution_count": null,
      "outputs": [
        {
          "output_type": "execute_result",
          "data": {
            "text/plain": [
              "['ali', 'ahmad', 'burhan']"
            ]
          },
          "metadata": {
            "tags": []
          },
          "execution_count": 23
        }
      ]
    },
    {
      "cell_type": "code",
      "metadata": {
        "colab": {
          "base_uri": "https://localhost:8080/"
        },
        "id": "elnqtyvF9nAo",
        "outputId": "bc00c924-c319-4d88-c85c-37412334ee7a"
      },
      "source": [
        "a=[1,\"ali\",5.5,\"b\"]\n",
        "a"
      ],
      "execution_count": null,
      "outputs": [
        {
          "output_type": "execute_result",
          "data": {
            "text/plain": [
              "[1, 'ali', 5.5, 'b']"
            ]
          },
          "metadata": {
            "tags": []
          },
          "execution_count": 24
        }
      ]
    },
    {
      "cell_type": "code",
      "metadata": {
        "id": "CNzO-zIC-X71"
      },
      "source": [
        "a=[1]\n"
      ],
      "execution_count": null,
      "outputs": []
    },
    {
      "cell_type": "code",
      "metadata": {
        "colab": {
          "base_uri": "https://localhost:8080/"
        },
        "id": "3dM5Opys-8rl",
        "outputId": "f2cf7a91-947b-4dc6-83d8-76df00504dcb"
      },
      "source": [
        "#tuple ......tuple me hm na to value add kr skty na remove kr skt hy ..tuple waha use hoti jaha permanant type kam hota hy\n",
        "#tuple me \n",
        "\n",
        "t=(1,2,3,3,4,5)\n",
        "t"
      ],
      "execution_count": null,
      "outputs": [
        {
          "output_type": "execute_result",
          "data": {
            "text/plain": [
              "(1, 2, 3, 4, 5)"
            ]
          },
          "metadata": {
            "tags": []
          },
          "execution_count": 28
        }
      ]
    },
    {
      "cell_type": "code",
      "metadata": {
        "id": "vrw63DSmAPnq"
      },
      "source": [
        "t.count(3)"
      ],
      "execution_count": null,
      "outputs": []
    },
    {
      "cell_type": "code",
      "metadata": {
        "colab": {
          "base_uri": "https://localhost:8080/"
        },
        "id": "LoE1pXqVAV6j",
        "outputId": "6b96969f-f9e7-45ce-88ed-954f8a509ae6"
      },
      "source": [
        "t.index(4)"
      ],
      "execution_count": null,
      "outputs": [
        {
          "output_type": "execute_result",
          "data": {
            "text/plain": [
              "3"
            ]
          },
          "metadata": {
            "tags": []
          },
          "execution_count": 37
        }
      ]
    },
    {
      "cell_type": "code",
      "metadata": {
        "colab": {
          "base_uri": "https://localhost:8080/"
        },
        "id": "GTzdCqdSA5TM",
        "outputId": "5914d2b2-470b-46f6-b22e-b7f338469ae0"
      },
      "source": [
        "#Dictionary is the last variable type in python{1 is key :and 2 is value}{key:value} like {\"name\":\"bilal\"}\n",
        "dic={\"marks\":\"twenty\",\"class\":\"six\",\"member\":87}\n",
        "dic"
      ],
      "execution_count": null,
      "outputs": [
        {
          "output_type": "execute_result",
          "data": {
            "text/plain": [
              "{'class': 'six', 'marks': 'twenty'}"
            ]
          },
          "metadata": {
            "tags": []
          },
          "execution_count": 38
        }
      ]
    },
    {
      "cell_type": "code",
      "metadata": {
        "colab": {
          "base_uri": "https://localhost:8080/",
          "height": 35
        },
        "id": "Jo88UONeCQWD",
        "outputId": "f2a12aea-705b-486e-dfcf-40723f53aae7"
      },
      "source": [
        "dic[\"marks\"]\n"
      ],
      "execution_count": null,
      "outputs": [
        {
          "output_type": "execute_result",
          "data": {
            "application/vnd.google.colaboratory.intrinsic+json": {
              "type": "string"
            },
            "text/plain": [
              "'twenty'"
            ]
          },
          "metadata": {
            "tags": []
          },
          "execution_count": 40
        }
      ]
    },
    {
      "cell_type": "code",
      "metadata": {
        "colab": {
          "base_uri": "https://localhost:8080/",
          "height": 35
        },
        "id": "09nX-5TVCYPX",
        "outputId": "c8ad0716-a7c0-4b38-b4b3-b37fc7ad696d"
      },
      "source": [
        "dic[\"class\"]"
      ],
      "execution_count": null,
      "outputs": [
        {
          "output_type": "execute_result",
          "data": {
            "application/vnd.google.colaboratory.intrinsic+json": {
              "type": "string"
            },
            "text/plain": [
              "'six'"
            ]
          },
          "metadata": {
            "tags": []
          },
          "execution_count": 41
        }
      ]
    },
    {
      "cell_type": "code",
      "metadata": {
        "id": "Pn0wk2IEC7sA"
      },
      "source": [
        "dic[113] = \"number\"  #add a value in dictionary"
      ],
      "execution_count": null,
      "outputs": []
    },
    {
      "cell_type": "code",
      "metadata": {
        "colab": {
          "base_uri": "https://localhost:8080/"
        },
        "id": "Brb5cVfGDeho",
        "outputId": "a6493e54-9789-4b3d-89d4-82eaa4e736f4"
      },
      "source": [
        "dic"
      ],
      "execution_count": null,
      "outputs": [
        {
          "output_type": "execute_result",
          "data": {
            "text/plain": [
              "{113: 'number', 'class': 'six', 'marks': 'twenty'}"
            ]
          },
          "metadata": {
            "tags": []
          },
          "execution_count": 46
        }
      ]
    },
    {
      "cell_type": "code",
      "metadata": {
        "colab": {
          "base_uri": "https://localhost:8080/",
          "height": 35
        },
        "id": "CKBVJsB_D_1o",
        "outputId": "611322bd-0dee-4f16-f535-0714a9eac6d3"
      },
      "source": [
        "dic[113] #fetch a value"
      ],
      "execution_count": null,
      "outputs": [
        {
          "output_type": "execute_result",
          "data": {
            "application/vnd.google.colaboratory.intrinsic+json": {
              "type": "string"
            },
            "text/plain": [
              "'number'"
            ]
          },
          "metadata": {
            "tags": []
          },
          "execution_count": 47
        }
      ]
    },
    {
      "cell_type": "code",
      "metadata": {
        "id": "Wz5dfWDNEVqK"
      },
      "source": [
        "del dic[\"marks\"] #delete a value from dictionary"
      ],
      "execution_count": null,
      "outputs": []
    },
    {
      "cell_type": "code",
      "metadata": {
        "colab": {
          "base_uri": "https://localhost:8080/"
        },
        "id": "81TSAINuE2GN",
        "outputId": "e07bc26f-dba5-4f16-b0d8-f39489298086"
      },
      "source": [
        "dic"
      ],
      "execution_count": null,
      "outputs": [
        {
          "output_type": "execute_result",
          "data": {
            "text/plain": [
              "{113: 'number', 'class': 'six'}"
            ]
          },
          "metadata": {
            "tags": []
          },
          "execution_count": 49
        }
      ]
    },
    {
      "cell_type": "code",
      "metadata": {
        "id": "qFmBBaelE42S"
      },
      "source": [
        "dic[list] = [1,2,3,4,\"this is a list\"]"
      ],
      "execution_count": null,
      "outputs": []
    },
    {
      "cell_type": "code",
      "metadata": {
        "colab": {
          "base_uri": "https://localhost:8080/"
        },
        "id": "iR-KT7_iFg1c",
        "outputId": "b76f4fcf-d557-43e0-9cef-2bb1a3b3d00f"
      },
      "source": [
        "dic"
      ],
      "execution_count": null,
      "outputs": [
        {
          "output_type": "execute_result",
          "data": {
            "text/plain": [
              "{113: 'number', list: [1, 2, 3, 4, 'this is a list'], 'class': 'six'}"
            ]
          },
          "metadata": {
            "tags": []
          },
          "execution_count": 51
        }
      ]
    },
    {
      "cell_type": "code",
      "metadata": {
        "colab": {
          "base_uri": "https://localhost:8080/"
        },
        "id": "9KOq4EKbFhtG",
        "outputId": "b8d2a9a1-c174-424a-aa7e-fd2ac8c56169"
      },
      "source": [
        "dic[list]"
      ],
      "execution_count": null,
      "outputs": [
        {
          "output_type": "execute_result",
          "data": {
            "text/plain": [
              "[1, 2, 3, 4, 'this is a list']"
            ]
          },
          "metadata": {
            "tags": []
          },
          "execution_count": 52
        }
      ]
    },
    {
      "cell_type": "code",
      "metadata": {
        "id": "4-OUsvTuFp3_"
      },
      "source": [
        ""
      ],
      "execution_count": null,
      "outputs": []
    }
  ]
}